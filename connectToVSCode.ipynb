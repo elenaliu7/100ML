{
  "nbformat": 4,
  "nbformat_minor": 0,
  "metadata": {
    "colab": {
      "provenance": [],
      "authorship_tag": "ABX9TyO7mmu7BnGrw5rpnTTlsMGl",
      "include_colab_link": true
    },
    "kernelspec": {
      "name": "python3",
      "display_name": "Python 3"
    },
    "language_info": {
      "name": "python"
    }
  },
  "cells": [
    {
      "cell_type": "markdown",
      "metadata": {
        "id": "view-in-github",
        "colab_type": "text"
      },
      "source": [
        "<a href=\"https://colab.research.google.com/github/elenaliu7/100ML/blob/master/connectToVSCode.ipynb\" target=\"_parent\"><img src=\"https://colab.research.google.com/assets/colab-badge.svg\" alt=\"Open In Colab\"/></a>"
      ]
    },
    {
      "cell_type": "code",
      "execution_count": 1,
      "metadata": {
        "id": "GFsLWrfrh4kM",
        "colab": {
          "base_uri": "https://localhost:8080/"
        },
        "outputId": "9b938de1-aeb8-4c3f-cc0a-cb0cd4a649b2"
      },
      "outputs": [
        {
          "output_type": "stream",
          "name": "stdout",
          "text": [
            "Collecting colab_ssh\n",
            "  Downloading colab_ssh-0.3.27-py3-none-any.whl (26 kB)\n",
            "Installing collected packages: colab_ssh\n",
            "Successfully installed colab_ssh-0.3.27\n",
            "Warning: Due to some issues with ngrok on Google Colab, reported in the issue https://github.com/WassimBenzarti/colab-ssh/issues/45, \n",
            "we highly recommend that update your code by following this documentation https://github.com/WassimBenzarti/colab-ssh#getting-started\n",
            "Successfully running 4.tcp.ngrok.io:18514\n",
            "[Optional] You can also connect with VSCode SSH Remote extension using this configuration:\n",
            "\n",
            "  Host google_colab_ssh\n",
            "    HostName 4.tcp.ngrok.io\n",
            "    User root\n",
            "    Port 18514\n",
            "    \n"
          ]
        }
      ],
      "source": [
        "!pip install colab_ssh --upgrade\n",
        "from colab_ssh import launch_ssh\n",
        "launch_ssh('2THrziyv9s3dAdwWjNZ82KM0UhU_3a4RGxtpt8eGYyGQPLcnx','9298liu')"
      ]
    }
  ]
}